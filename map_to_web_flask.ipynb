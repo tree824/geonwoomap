{
 "cells": [
  {
   "cell_type": "code",
   "execution_count": 7,
   "metadata": {},
   "outputs": [
    {
     "data": {
      "text/plain": [
       "\"참고: https://wikidocs.net/231475\\nimport folium\\nimport pandas as pd\\n\\n# 데이터 파일에서 불러온다.\\ndf = pd.read_csv('db_tocsv_with_lat_lng.csv', encoding='utf-8')\\ndf.head()\\n\\n# 지도에 표시할 기준점을 잡아준다.\\ncenter = [37.56322, 126.8367]  #건우솔루션과 가까운 회사인 강서구 마곡에 위치한 센서텍(주)의 위치를 중심으로 잡아준다. \\nmap = folium.Map(location=center, zoom_start=12)\\n\\n# 데이터 파일에 저장된 위도, 경로에 대한 값을 지도에 표시한다.\\nfor i in df.index[:len(df)]:      # 데이터 개수만큼 반복한다.\\n    folium.Circle(\\n        location = df.loc[i, ['위도', '경도']],\\n        tooltip = df.loc[i, '이름'],\\n        radius = 100,\\n        color = 'blue',\\n        fill_color = 'blue'\\n      ).add_to(map)\\nmap\""
      ]
     },
     "execution_count": 7,
     "metadata": {},
     "output_type": "execute_result"
    }
   ],
   "source": [
    "# import nbformat\n",
    "# import codecs\n",
    "\n",
    "\n",
    "# with codecs.open(\"C:/Users/User/Desktop/DB 파이썬 지도 시각화/folium_map_geonwoo.ipynb\", \"r\",\"utf-8\") as file:\n",
    "#     notebook_content = nbformat.read(file, as_version=4)\n",
    "\n",
    "\n",
    "# first_cell_code = notebook_content.cells[0].source\n",
    "# first_cell_code"
   ]
  },
  {
   "cell_type": "code",
   "execution_count": 6,
   "metadata": {},
   "outputs": [
    {
     "name": "stdout",
     "output_type": "stream",
     "text": [
      "Map with markers saved to : /home/geonwoo_sangmi24/map_to_web/map_web_making/templates/map.html\n"
     ]
    }
   ],
   "source": [
    "import folium\n",
    "import pandas as pd\n",
    "\n",
    "file_path = \"/home/geonwoo_sangmi24/map_visualize/db_data_to_lat_lng/db_tocsv_with_lat_lng.csv\"\n",
    "df = pd.read_csv(file_path) \n",
    "\n",
    "\n",
    "m = folium.Map(location=[df['위도'].mean(), df['경도'].mean()], zoom_start=3)  \n",
    "\n",
    "for idx, row in df.iterrows():\n",
    "    folium.Marker(\n",
    "        location=[row['위도'], row['경도']],\n",
    "        popup=row['이름']  # 'name' 대신 팝업에 표시할 열 이름을 사용\n",
    "    ).add_to(m)\n",
    "\n",
    "map_file_path = \"/home/geonwoo_sangmi24/map_to_web/map_web_making/templates/map.html\"\n",
    "m.save(map_file_path)\n",
    "\n",
    "print(f\"Map with markers saved to : {map_file_path}\")\n"
   ]
  },
  {
   "cell_type": "code",
   "execution_count": null,
   "metadata": {},
   "outputs": [],
   "source": []
  }
 ],
 "metadata": {
  "kernelspec": {
   "display_name": "Python (newvenvformap)",
   "language": "python",
   "name": "newvenvformap"
  },
  "language_info": {
   "codemirror_mode": {
    "name": "ipython",
    "version": 3
   },
   "file_extension": ".py",
   "mimetype": "text/x-python",
   "name": "python",
   "nbconvert_exporter": "python",
   "pygments_lexer": "ipython3",
   "version": "3.10.12"
  }
 },
 "nbformat": 4,
 "nbformat_minor": 2
}
