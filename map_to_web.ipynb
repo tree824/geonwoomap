{
 "cells": [
  {
   "cell_type": "code",
   "execution_count": 6,
   "metadata": {},
   "outputs": [
    {
     "name": "stdout",
     "output_type": "stream",
     "text": [
      "{'object': 'error', 'status': 404, 'code': 'object_not_found', 'message': 'Could not find page with ID: a9389c36-2abc-4bd6-88b4-95751e90958b. Make sure the relevant pages and databases are shared with your integration.', 'request_id': '0ab6e9eb-9ee3-426b-a66b-17f068db34ea'}\n"
     ]
    }
   ],
   "source": [
    "import requests\n",
    "\n",
    "# Notion API 토큰과 데이터베이스 ID\n",
    "token = \"secret_RwbMAmj6406g3a7et70jG2vJZhmeGh8gBbDxrIGblfW\"\n",
    "page_id = \"a9389c362abc4bd688b495751e90958b\"\n",
    "\n",
    "# 헤더 설정\n",
    "headers = {\n",
    "    \"Authorization\": f\"Bearer {token}\",\n",
    "    \"Content-Type\": \"application/json\",\n",
    "    \"Notion-Version\": \"2021-05-13\"\n",
    "}\n",
    "\n",
    "# 페이지 정보 가져오기\n",
    "response = requests.get(f\"https://api.notion.com/v1/pages/{page_id}\", headers=headers)\n",
    "\n",
    "# 페이지 정보 출력\n",
    "print(response.json())"
   ]
  },
  {
   "cell_type": "code",
   "execution_count": null,
   "metadata": {},
   "outputs": [],
   "source": []
  }
 ],
 "metadata": {
  "kernelspec": {
   "display_name": "Python 3",
   "language": "python",
   "name": "python3"
  },
  "language_info": {
   "codemirror_mode": {
    "name": "ipython",
    "version": 3
   },
   "file_extension": ".py",
   "mimetype": "text/x-python",
   "name": "python",
   "nbconvert_exporter": "python",
   "pygments_lexer": "ipython3",
   "version": "3.11.9"
  }
 },
 "nbformat": 4,
 "nbformat_minor": 2
}
